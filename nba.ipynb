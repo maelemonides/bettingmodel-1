{
 "cells": [
  {
   "cell_type": "code",
   "execution_count": null,
   "metadata": {},
   "outputs": [],
   "source": [
    "from nba_api.stats.endpoints import leaguegamelog\n",
    "from nba_api.stats.endpoints import boxscoresummaryv2\n",
    "import pandas\n",
    "import sqlite3\n",
    "from tqdm import tqdm_notebook\n",
    "conn = sqlite3.connect(\"nba2.db\")"
   ]
  },
  {
   "cell_type": "code",
   "execution_count": null,
   "metadata": {},
   "outputs": [],
   "source": [
    "from nba_api.stats.endpoints import commonplayerinfo\n",
    "c = conn.cursor()\n",
    "c.execute(\"SELECT Player.id FROM Player WHERE height IS NULL\")\n",
    "players = c.fetchall()\n",
    "for player in players:\n",
    "    player_info = commonplayerinfo.CommonPlayerInfo(player_id=player[0])\n",
    "    info = player_info.common_player_info.get_dict()[\"data\"][0]\n",
    "    print(info[0])\n",
    "    c.execute(\"UPDATE Player SET height=?, weight=? WHERE id=?\", (info[10], info[11], info[0]))\n",
    "    conn.commit()"
   ]
  },
  {
   "cell_type": "code",
   "execution_count": null,
   "metadata": {
    "scrolled": true
   },
   "outputs": [],
   "source": [
    "s= [f\"20{i}-{i+1}\" for i in range(12, 9, -1)] + [\"2009-10\"] + [f\"200{i}-0{i+1}\" for i in range(8, 6, -1)]\n",
    "c = conn.cursor()\n",
    "for season in s:\n",
    "    player_league_info = leaguegamelog.LeagueGameLog(player_or_team_abbreviation=\"P\", season=season)\n",
    "    player_info = player_league_info.get_data_frames()\n",
    "    #team_info = team_league_info.get_data_frames()\n",
    "    for index, row in tqdm_notebook(player_info[0].iterrows(), total=player_info[0].shape[0]):\n",
    "        # Player if not exists\n",
    "        pid, gid = row[\"PLAYER_ID\"], row[\"GAME_ID\"]\n",
    "        tid = row[\"TEAM_ID\"]\n",
    "        c.execute(\"SELECT id FROM Player WHERE id = ?\", (pid,))\n",
    "        if c.fetchone() is None: # Create a new Player\n",
    "            c.execute(\"INSERT INTO Player(id, name) VALUES (?, ?)\", (pid, row[\"PLAYER_NAME\"]))\n",
    "        # Game if not exists\n",
    "        c.execute(\"SELECT id FROM Game WHERE id = ?\", (gid,))\n",
    "        if c.fetchone() is None:\n",
    "            c.execute(\"INSERT INTO Game(id, date) VALUES (?, ?)\", (gid, row[\"GAME_DATE\"]))\n",
    "            # if we won, put our id in the winnerid\n",
    "        if \"@\" in row[\"MATCHUP\"]: # we played away\n",
    "            c.execute(\"UPDATE Game SET awayid=? WHERE id=?\",\n",
    "                  (row[\"TEAM_ID\"], gid))\n",
    "        else: # we played home\n",
    "            c.execute(\"UPDATE Game SET homeid=? WHERE id=?\",\n",
    "                  (row[\"TEAM_ID\"], gid))\n",
    "        if row[\"WL\"] == \"W\":\n",
    "            c.execute(\"UPDATE Game SET winnerid=? WHERE id=?\", (row[\"TEAM_ID\"], gid))\n",
    "            \n",
    "        # Team if not exists\n",
    "        c.execute(\"SELECT id from Team WHERE id = ?\", (tid,))\n",
    "        if c.fetchone() is None:\n",
    "            c.execute(\"INSERT INTO Team(id, name, abbr) VALUES (?, ?, ?)\", (tid, row[\"TEAM_NAME\"], row[\"TEAM_ABBREVIATION\"]))\n",
    "        # Fill in PlayerGame and TeamGame\n",
    "        c.execute(\"SELECT id FROM PlayerGame WHERE gid=? AND pid=?\", (gid, pid))\n",
    "        if c.fetchone() is not None:\n",
    "            c.execute(\"DELETE FROM PlayerGame WHERE gid=? AND pid=?\", (gid, pid))\n",
    "        c.execute(\"INSERT INTO PlayerGame(gid, pid, three_pct, ft_pct, fg_pct, teamid, playtime,\\\n",
    "                    pts, ft_made, three_pts, oreb, dreb, blk, ast, tov, pf) VALUES (?, ?, ?, ?, ?, ?, \\\n",
    "                    ?, ?, ?, ?, ?, ?, ?, ?, ?, ?)\",\n",
    "                 (gid, pid, row[\"FG3_PCT\"],  row[\"FT_PCT\"], row[\"FG_PCT\"], tid, row[\"MIN\"],\n",
    "                 row[\"PTS\"], row[\"FTM\"], row[\"FG3M\"], row[\"OREB\"], row[\"DREB\"], row[\"BLK\"], row[\"AST\"],\n",
    "                 row[\"TOV\"], row[\"PF\"]))\n",
    "    conn.commit()\n",
    "    print(\"Commited season \"+season)"
   ]
  },
  {
   "cell_type": "code",
   "execution_count": null,
   "metadata": {},
   "outputs": [],
   "source": [
    "import keras\n",
    "from tensorflow.keras.utils import Sequence\n",
    "import tensorflow as tf\n",
    "import numpy as np\n",
    "from datetime import datetime, timedelta\n",
    "import sqlite3\n",
    "# validation data is the last 20% of the season\n",
    "# break even percentage is 1/decimal odds\n",
    "\n",
    "class DataGenerator(Sequence):\n",
    "    def __init__(self, dbname, x_set, y_set, batch_size=32, dim=(5, 5),n_chan=7,\n",
    "                shuffle=True, isValidation=False):\n",
    "        self.batch_size=batch_size\n",
    "        self.dim=dim\n",
    "        self.n_chan=n_chan\n",
    "        self.shuffle=shuffle\n",
    "        self.isValidation = isValidation\n",
    "        self.dbname=dbname\n",
    "        self.x, self.y = x_set, y_set\n",
    "        print(self.x[:10], self.y[:10])\n",
    "    def __len__(self):\n",
    "        return int(np.floor(len(self.x)/self.batch_size))\n",
    "    def __getitem__(self, index):\n",
    "        batch_x = self.x[index*self.batch_size:(index+1)*self.batch_size]\n",
    "        batch_y = self.y[index*self.batch_size:(index+1)*self.batch_size]\n",
    "        # batch_x contains a list of gameIDs... make \"images\" from these\n",
    "        X = np.zeros((self.batch_size, self.n_chan, *self.dim))\n",
    "        Y = np.asarray(batch_y)\n",
    "        for i, sample in enumerate(batch_x):\n",
    "            X[i,] = self.makeSample(sample)\n",
    "        return X, Y\n",
    "        \n",
    "    def makeSample(self, gameid):\n",
    "        # create a (5,5) with 6 channels (different stats)\n",
    "        # select the top 5 players from each team based on playtime\n",
    "        c=sqlite3.connect(self.dbname).cursor()\n",
    "        c.execute(\"SELECT homeid, awayid, date FROM Game WHERE id=?\", (gameid,))\n",
    "        homeid, awayid, date = c.fetchone()\n",
    "        print(date)\n",
    "        c.execute(\"SELECT Team.id, Player.id, Player.name\\\n",
    "                        FROM PlayerGame as pg, Game, Player, Team\\\n",
    "                        WHERE Game.id=? AND pg.gid=Game.id\\\n",
    "                        AND pg.pid=Player.id AND pg.teamid=Team.id\\\n",
    "                        ORDER BY pg.teamid, pg.playtime DESC\", (gameid,))\n",
    "        # for each of these players, calulate their averages from last 8 games\n",
    "        #print(\"pg.three_pct, pg.pts, pg.fg_pct, pg.ft_pct, pg.ast, pg.tov, pg.blk\")\n",
    "        home, away = [], []\n",
    "        for team, player, name in c.fetchall():\n",
    "            #print(name)\n",
    "            #since = datetime.strptime(date, \"%Y-%m-%d\") - timedelta(days=60)\n",
    "            #d = since.strftime(\"%Y-%m-%d\")\n",
    "            c.execute(\"SELECT AVG(coalesce(f.three_pct,0)), AVG(f.pts), AVG(coalesce(f.fg_pct,0)),\\\n",
    "                            AVG(coalesce(f.ft_pct,0)), AVG(f.ast), AVG(f.tov), AVG(f.blk)\\\n",
    "                            FROM (SELECT pg.three_pct, pg.pts, pg.fg_pct, pg.ft_pct, pg.ast, pg.tov, pg.blk\\\n",
    "                                FROM PlayerGame as pg, Game as g1 WHERE\\\n",
    "                            pg.pid=? AND pg.gid=g1.id\\\n",
    "                            AND g1.date < ? AND g1.date > ?) as f\", (player,date, date-2592000))\n",
    "            if str(team) == homeid:\n",
    "                home.append(c.fetchone())\n",
    "            else:\n",
    "                away.append(c.fetchone())\n",
    "        #print(home, away)\n",
    "        num_features = len(home[0])\n",
    "        features = np.zeros((self.n_chan, *self.dim))\n",
    "        for z in range(self.n_chan):\n",
    "            for x in range(self.dim[0]): # iterating over the home players\n",
    "                for y in range(self.dim[0]): # over the away players\n",
    "                    features[z, x, y] = home[x][z] - away[y][z]\n",
    "            # normalize the feature between -1 and 1\n",
    "            f = features[z]\n",
    "            features[z] = 2*(f-f.min())/(f.max()-f.min()) -1\n",
    "        return features\n",
    "        # order the players by height\n",
    "        # pg.three_pct, pg.pts, pg.fg_pct, pg.ft_pct, pg.ast, pg.tov\n",
    "        # do home-away for each of the stats. (then -1 to 1 normalization)\n",
    "        # return the 5x5x6"
   ]
  },
  {
   "cell_type": "code",
   "execution_count": null,
   "metadata": {
    "scrolled": true
   },
   "outputs": [],
   "source": [
    "from sklearn.model_selection import train_test_split\n",
    "import random\n",
    "import sqlite3\n",
    "from keras import backend\n",
    "import glob, os\n",
    "samples = []\n",
    "labels = []\n",
    "with sqlite3.connect(\"nba2.db\") as conn:\n",
    "    c = conn.cursor()\n",
    "    for season in [f\"20{str(i).zfill(2)}\" for i in range(7, 20)]:\n",
    "        for file in glob.glob(f\"samples/{season}/*.npy\"):\n",
    "            samples.append(np.load(file))\n",
    "            gid = os.path.basename(file).rstrip(\".npy\")\n",
    "            c.execute(\"Select CASE WHEN Game.winnerid=Game.homeid THEN 1\\\n",
    "                            ELSE 0 END AS label FROM Game WHERE Game.id=?\", (gid,))\n",
    "            labels.append(c.fetchone())\n",
    "# Naive random oversample\n",
    "diff = len(labels)//2 - labels.count((0,))\n",
    "for i in range(diff):\n",
    "    while True:\n",
    "            a = random.randint(1, len(labels)-1)\n",
    "            if labels[a] == (0,):\n",
    "                samples.append(samples[a])\n",
    "                labels.append((0,))\n",
    "                break\n",
    "samples = np.stack(samples)\n",
    "labels = np.stack(labels)\n",
    "print(samples.shape, labels.shape)\n",
    "t_split = int(samples.shape[0]*0.8)\n",
    "x_train, x_test, y_train, y_test = train_test_split(samples, labels, test_size=0.2, random_state=30)"
   ]
  },
  {
   "cell_type": "code",
   "execution_count": null,
   "metadata": {},
   "outputs": [],
   "source": [
    "import tensorflow as tf\n",
    "from keras.models import Sequential\n",
    "from keras.layers import Dense, Dropout, Activation, Flatten\n",
    "from keras.layers import Convolution2D, Conv2D, MaxPooling2D, GlobalAveragePooling2D\n",
    "from keras.optimizers import Adam\n",
    "from keras.utils import np_utils\n",
    "from keras.optimizers import RMSprop\n",
    "model = Sequential()\n",
    "model.add(Conv2D(filters=16, kernel_size=(2, 2), input_shape=(7, 5, 5),\n",
    "                 data_format=\"channels_first\", activation=\"relu\"))\n",
    "#model.add(Conv2D(filters=32, kernel_size=(1, 1), activation=\"relu\"))\n",
    "#model.add(Conv2D(filters=32, kernel_size=(3,3), activation=\"relu\",))\n",
    "#model.add(Conv2D(filters=32, kernel_size=(3, 3),activation=\"relu\"))\n",
    "model.add(Flatten())\n",
    "model.add(Dense(32, activation=\"relu\"))\n",
    "model.add(Dropout(0.5))\n",
    "model.add(Dense(16, activation=\"relu\"))\n",
    "model.add(Dropout(0.5))\n",
    "model.add(Dense(8, activation=\"relu\"))\n",
    "model.add(Dropout(0.5))\n",
    "model.add(Dense(1, activation=\"sigmoid\"))\n",
    "print(model.summary())\n",
    "adm = Adam(lr=0.0001)\n",
    "model.compile(loss=\"binary_crossentropy\", optimizer=adm,metrics=[\"accuracy\"])\n",
    "history = model.fit(x_train, y_train, batch_size=16,validation_data=(x_test, y_test), verbose=1,epochs=5)"
   ]
  },
  {
   "cell_type": "code",
   "execution_count": null,
   "metadata": {},
   "outputs": [],
   "source": [
    "predictions = model.predict(samples[:10])\n",
    "predictions"
   ]
  },
  {
   "cell_type": "markdown",
   "metadata": {},
   "source": [
    "# Version 2"
   ]
  },
  {
   "cell_type": "markdown",
   "metadata": {},
   "source": [
    "## Add columns"
   ]
  },
  {
   "cell_type": "code",
   "execution_count": null,
   "metadata": {},
   "outputs": [],
   "source": [
    "from nba_api.stats.endpoints import leaguegamelog\n",
    "from nba_api.stats.endpoints import boxscoresummaryv2\n",
    "from nba_api.stats.endpoints import boxscoreadvancedv2\n",
    "from nba_api.stats.endpoints import boxscoretraditionalv2\n",
    "import pandas\n",
    "import sqlite3\n",
    "from tqdm import tqdm_notebook\n",
    "conn = sqlite3.connect(\"nba2.db\")\n",
    "c = conn.cursor()\n",
    "\n",
    "player_info = boxscoreadvancedv2.BoxScoreAdvancedV2(\"0020700001\")\n",
    "for col in player_info.player_stats.get_data_frame().columns[8:]:\n",
    "    try:\n",
    "        print(col)\n",
    "        c.execute(f\"ALTER TABLE PlayerGameADV ADD {col} REAL\")\n",
    "    except:\n",
    "        pass\n",
    "player_info = boxscoretraditionalv2.BoxScoreTraditionalV2(\"0020700001\")\n",
    "for col in player_info.player_stats.get_data_frame().columns[9:]:\n",
    "    try:\n",
    "        print(col)\n",
    "        c.execute(f\"ALTER TABLE PlayerGameTRAD ADD {col} REAL\")\n",
    "    except:\n",
    "        pass\n",
    "conn.commit()"
   ]
  },
  {
   "cell_type": "code",
   "execution_count": null,
   "metadata": {},
   "outputs": [],
   "source": [
    "from nba_api.stats.endpoints import boxscoreadvancedv2\n",
    "from nba_api.stats.endpoints import boxscoretraditionalv2\n",
    "import sqlite3\n",
    "import code\n",
    "from tqdm import tqdm_notebook\n",
    "from multiprocessing import Pool\n",
    "conn = sqlite3.connect(\"nba2.db\")\n",
    "c = conn.cursor()\n",
    "c.execute(\"SELECT id FROM Game\")\n",
    "gameids = c.fetchall()\n",
    "#columns = c.execute(\"PRAGMA table_info(PlayerGame)\").fetchall()\n",
    "\n",
    "with Pool(20) as p:\n",
    "    p.map(code.insert_into_db, [g[0] for g in gameids])\n",
    "\n",
    "    \n",
    "    #players_info.rename({'GAME_ID': 'gid', 'TEAM_ID': 'teamid', 'PLAYER_ID':'pid'}, axis='columns', inplace=True)\n",
    "    #stats = players_info.loc[:, \"MIN\":] \n",
    "    #print(stats)\n",
    "    #stats.to_sql(\"PlayerGame\", conn, if_exists=\"append\", index=False)\n",
    "        "
   ]
  },
  {
   "cell_type": "code",
   "execution_count": null,
   "metadata": {
    "scrolled": true
   },
   "outputs": [],
   "source": [
    "import sqlite3\n",
    "from pymongo import MongoClient\n",
    "client = MongoClient()\n",
    "db = client.nba\n",
    "collection = db.games\n",
    "conn = sqlite3.connect(\"nba2.db\")\n",
    "c = conn.cursor()\n",
    "c.execute(\"SELECT * FROM Game\")\n",
    "gameids = c.fetchall()\n",
    "normalized_d = [{\"GAME_ID\":\"00\"+str(g[0]), \"DATE\":g[1], \"HOME\":g[2], \"AWAY\":g[3], \"WINNER\":g[4]} for g in gameids]\n",
    "collection.insert_many(normalized_d)"
   ]
  },
  {
   "cell_type": "code",
   "execution_count": null,
   "metadata": {},
   "outputs": [],
   "source": [
    "pd.set_option('display.max_colwidth', -1)"
   ]
  },
  {
   "cell_type": "code",
   "execution_count": null,
   "metadata": {},
   "outputs": [],
   "source": [
    "from pymongo import MongoClient\n",
    "import pandas as pd\n",
    "import re, os\n",
    "import numpy as np\n",
    "from tqdm import tqdm\n",
    "import pickle\n",
    "with open(\"adv.txt\") as f, open(\"trad.txt\") as g:\n",
    "    adv_stats = [x.strip() for x in f.readlines()]\n",
    "    trad_stats = [x.strip() for x in g.readlines()]\n",
    "client = MongoClient()\n",
    "db = client.nba\n",
    "boxtrad = db.trad\n",
    "boxadv = db.adv\n",
    "games = db.games\n",
    "seasons = [f\"002{str(i).zfill(2)}\" for i in range(7, 20)]\n",
    "for season in seasons:\n",
    "    if not os.path.isdir(f\"samples/{season}\"):\n",
    "        os.mkdir(f\"samples/{season}\")\n",
    "    players_adv, players_trad = {}, {}\n",
    "    rgx = re.compile(f\"^{season}.*\")\n",
    "    seasons_games = games.find({\"GAME_ID\":rgx})\n",
    "    players_games = boxtrad.find({\"GAME_ID\":rgx})\n",
    "    for pg in tqdm(players_games):\n",
    "        if pg[\"PLAYER_ID\"] not in players_adv: \n",
    "             # if we don't have the player, get all games player has played in this season\n",
    "            player_adv = boxadv.aggregate([\n",
    "                        {\"$match\":{\"GAME_ID\":rgx, \"PLAYER_ID\":pg[\"PLAYER_ID\"]}},\n",
    "                        {\"$lookup\":{\n",
    "                            \"from\": \"games\",\n",
    "                            \"localField\": \"GAME_ID\",\n",
    "                            \"foreignField\": \"GAME_ID\",\n",
    "                            \"as\": \"GAME_INFO\"}\n",
    "                        },\n",
    "                        {\"$unwind\":\"$GAME_INFO\"}])\n",
    "            player_trad = boxtrad.aggregate([\n",
    "                        {\"$match\":{\"GAME_ID\":rgx, \"PLAYER_ID\":pg[\"PLAYER_ID\"]}},\n",
    "                        {\"$lookup\":{\n",
    "                            \"from\": \"games\",\n",
    "                            \"localField\": \"GAME_ID\",\n",
    "                            \"foreignField\": \"GAME_ID\",\n",
    "                            \"as\": \"GAME_INFO\"}\n",
    "                        },\n",
    "                        {\"$unwind\":\"$GAME_INFO\"}\n",
    "            ])\n",
    "            players_adv[pg[\"PLAYER_ID\"]] = pd.DataFrame(list(player_adv))\n",
    "            players_trad[pg[\"PLAYER_ID\"]] = pd.DataFrame(list(player_trad))\n",
    "            players_adv[pg[\"PLAYER_ID\"]][\"MIN\"] = players_adv[pg[\"PLAYER_ID\"]][\"MIN\"].apply(lambda x: int(x.split(\":\")[0])*60+int(x.split(\":\")[1]) if x else 0)\n",
    "            players_trad[pg[\"PLAYER_ID\"]][\"MIN\"] = players_trad[pg[\"PLAYER_ID\"]][\"MIN\"].apply(lambda x: int(x.split(\":\")[0])*60+int(x.split(\":\")[1]) if x else 0)\n",
    "    pickle.dump( players_adv, open( f\"samples/{season}_adv.p\", \"wb\" ) )\n",
    "    pickle.dump( players_trad, open( f\"samples/{season}_trad.p\", \"wb\" ) )\n",
    "\n",
    "    for game in tqdm(seasons_games):\n",
    "        home, away = [], []\n",
    "        player_ids = boxadv.find({\"GAME_ID\":game[\"GAME_ID\"]}, {\"PLAYER_ID\":1, \"TEAM_ID\":1})\n",
    "        for pid in player_ids:\n",
    "            new = players_adv[pid[\"PLAYER_ID\"]].loc[players_adv[pid[\"PLAYER_ID\"]][\"GAME_INFO\"].str[\"DATE\"] < game[\"DATE\"], adv_stats].mean()\n",
    "            new2 = players_trad[pid[\"PLAYER_ID\"]].loc[players_trad[pid[\"PLAYER_ID\"]][\"GAME_INFO\"].str[\"DATE\"] < game[\"DATE\"], trad_stats].mean()\n",
    "            if game[\"HOME\"] == str(pid[\"TEAM_ID\"]):\n",
    "                home.append(np.nan_to_num(np.concatenate((new.to_numpy(), new2.to_numpy()))))\n",
    "            else:\n",
    "                away.append(np.nan_to_num(np.concatenate((new.to_numpy(), new2.to_numpy()))))\n",
    "        home.sort(key=lambda x: x[0], reverse=True) # sort by time played (seconds)\n",
    "        away.sort(key=lambda x: x[0], reverse=True)\n",
    "        sample = np.stack([np.vstack(home[:8]), np.vstack(away[:8])])\n",
    "        np.save(f\"samples/{season}/{game['GAME_ID']}.npy\", sample)"
   ]
  },
  {
   "cell_type": "code",
   "execution_count": null,
   "metadata": {},
   "outputs": [],
   "source": [
    "from pymongo import MongoClient\n",
    "import pandas as pd\n",
    "import re\n",
    "client = MongoClient()\n",
    "db = client.nba\n",
    "boxtrad = db.trad\n",
    "boxadv = db.adv\n",
    "games = db.games\n",
    "players_adv, players_trad = {}, {}\n",
    "rgx = re.compile(f\"^00207.*\")\n",
    "players_games = boxtrad.find({\"GAME_ID\":rgx})\n",
    "for pg in tqdm(players_games):\n",
    "        if pg[\"PLAYER_ID\"] not in players_adv: \n",
    "             # if we don't have the player, get all games player has played in this season\n",
    "            player_adv = boxadv.aggregate([\n",
    "                        {\"$match\":{\"GAME_ID\":rgx, \"PLAYER_ID\":pg[\"PLAYER_ID\"]}},\n",
    "                        {\"$lookup\":{\n",
    "                            \"from\": \"games\",\n",
    "                            \"localField\": \"GAME_ID\",\n",
    "                            \"foreignField\": \"GAME_ID\",\n",
    "                            \"as\": \"GAME_INFO\"}\n",
    "                        },\n",
    "                        {\"$unwind\":\"$GAME_INFO\"}])\n",
    "            player_trad = boxtrad.aggregate([\n",
    "                        {\"$match\":{\"GAME_ID\":rgx, \"PLAYER_ID\":pg[\"PLAYER_ID\"]}},\n",
    "                        {\"$lookup\":{\n",
    "                            \"from\": \"games\",\n",
    "                            \"localField\": \"GAME_ID\",\n",
    "                            \"foreignField\": \"GAME_ID\",\n",
    "                            \"as\": \"GAME_INFO\"}\n",
    "                        },\n",
    "                        {\"$unwind\":\"$GAME_INFO\"}\n",
    "            ])\n",
    "            players_adv[pg[\"PLAYER_ID\"]] = pd.DataFrame(list(player_adv))\n",
    "            players_trad[pg[\"PLAYER_ID\"]] = pd.DataFrame(list(player_trad))\n",
    "            players_adv[pg[\"PLAYER_ID\"]][\"MIN\"] = players_adv[pg[\"PLAYER_ID\"]][\"MIN\"].apply(lambda x: int(x.split(\":\")[0])*60+int(x.split(\":\")[1]) if x else 0)\n",
    "            players_trad[pg[\"PLAYER_ID\"]][\"MIN\"] = players_trad[pg[\"PLAYER_ID\"]][\"MIN\"].apply(lambda x: int(x.split(\":\")[0])*60+int(x.split(\":\")[1]) if x else 0)"
   ]
  },
  {
   "cell_type": "code",
   "execution_count": null,
   "metadata": {
    "scrolled": true
   },
   "outputs": [],
   "source": [
    "import numpy as np\n",
    "with open(\"adv.txt\") as f, open(\"trad.txt\") as g:\n",
    "    adv_stats = [x.strip() for x in f.readlines()]\n",
    "    trad_stats = [x.strip() for x in g.readlines()]\n",
    "seasons_games = games.find({\"GAME_ID\":\"0020700380\"})\n",
    "for game in tqdm(seasons_games):\n",
    "        home, away = [], []\n",
    "        player_ids = boxadv.find({\"GAME_ID\":game[\"GAME_ID\"]}, {\"PLAYER_ID\":1, \"TEAM_ID\":1})\n",
    "        for pid in player_ids:\n",
    "            new = players_adv[pid[\"PLAYER_ID\"]].loc[players_adv[pid[\"PLAYER_ID\"]][\"GAME_INFO\"].str[\"DATE\"] < game[\"DATE\"], adv_stats].mean()\n",
    "            new2 = players_trad[pid[\"PLAYER_ID\"]].loc[players_trad[pid[\"PLAYER_ID\"]][\"GAME_INFO\"].str[\"DATE\"] < game[\"DATE\"], trad_stats].mean()\n",
    "            if game[\"HOME\"] == str(pid[\"TEAM_ID\"]):\n",
    "                home.append(np.nan_to_num(np.concatenate([new.to_numpy(), new2.to_numpy()])))\n",
    "            else:\n",
    "                away.append(np.nan_to_num(np.concatenate([new.to_numpy(), new2.to_numpy()])))\n",
    "        home.sort(key=lambda x: x[0], reverse=True) # sort by time played (seconds)\n",
    "        away.sort(key=lambda x: x[0], reverse=True)\n",
    "        sample = np.stack([np.vstack(home[:8]), np.vstack(away[:8])])\n",
    "        np.save(f\"samples/{season}/{game['GAME_ID']}.npy\", sample)"
   ]
  },
  {
   "cell_type": "code",
   "execution_count": 1,
   "metadata": {},
   "outputs": [
    {
     "name": "stderr",
     "output_type": "stream",
     "text": [
      "100%|█████████████████████████████████████████████████████████████████████████████| 1110/1110 [00:10<00:00, 110.38it/s]\n",
      "100%|██████████████████████████████████████████████████████████████████████████████| 1110/1110 [00:11<00:00, 98.47it/s]\n",
      "100%|█████████████████████████████████████████████████████████████████████████████| 1111/1111 [00:11<00:00, 100.26it/s]\n",
      "100%|███████████████████████████████████████████████████████████████████████████████| 870/870 [00:08<00:00, 100.01it/s]\n",
      "100%|██████████████████████████████████████████████████████████████████████████████| 1109/1109 [00:11<00:00, 99.49it/s]\n",
      "100%|██████████████████████████████████████████████████████████████████████████████| 1110/1110 [00:11<00:00, 99.95it/s]\n",
      "100%|██████████████████████████████████████████████████████████████████████████████| 1110/1110 [00:11<00:00, 98.25it/s]\n",
      "100%|█████████████████████████████████████████████████████████████████████████████| 1110/1110 [00:11<00:00, 100.54it/s]\n",
      "100%|██████████████████████████████████████████████████████████████████████████████| 1110/1110 [00:11<00:00, 98.08it/s]\n",
      "100%|██████████████████████████████████████████████████████████████████████████████| 1110/1110 [00:11<00:00, 98.68it/s]\n",
      "100%|██████████████████████████████████████████████████████████████████████████████| 1110/1110 [00:11<00:00, 98.96it/s]\n",
      "0it [00:00, ?it/s]\n"
     ]
    }
   ],
   "source": [
    "import os\n",
    "import numpy as np\n",
    "from tqdm import tqdm\n",
    "from pymongo import MongoClient\n",
    "bookies = {\n",
    "    \"44\":\"Betfair\",\n",
    "    \"16\":\"bet365\",\n",
    "    \"18\":\"Pinnacle\",\n",
    "    \"5\":\"Unibet\"\n",
    "}\n",
    "client = MongoClient()\n",
    "db = client.nba\n",
    "games = db.games\n",
    "\n",
    "seasons = [f\"002{str(i).zfill(2)}\" for i in range(8, 20)]\n",
    "# load the samples into memory\n",
    "x, y = [], []\n",
    "def normalize_sample(nparr):\n",
    "    for feature in range(nparr.shape[-1]): # iterate over the features\n",
    "        f = np.nan_to_num(nparr[:, :, feature])\n",
    "        nparr[:, :, feature] = (f-f.min())/(f.max()-f.min())\n",
    "    return nparr\n",
    "\n",
    "for season in seasons:\n",
    "    for filename in tqdm(os.listdir(f\"samples/{season}\")[120:]):\n",
    "        if \".npy\" in filename:\n",
    "            game = list(games.find({\"GAME_ID\":filename.strip(\".npy\"), \"bet365\":{\"$exists\":\"True\"}}))\n",
    "            if not game:\n",
    "                continue\n",
    "            game = game[0]\n",
    "            closing_odds = 1/float(game[\"bet365\"].split()[1].split(\"v\")[0])\n",
    "            home_win = int(game[\"HOME\"] == game[\"WINNER\"])\n",
    "            sample = np.load(f\"samples/{season}/{filename}\")\n",
    "            x.append((normalize_sample(sample), closing_odds))\n",
    "            y.append(home_win)\n",
    "x = np.array(x)\n",
    "y = np.array(y)\n",
    "\n",
    "import random\n",
    "print(x.shape, y.shape)\n",
    "diff = len(y)//2 - np.count_nonzero(y == 0)\n",
    "for i in tqdm(range(diff)):\n",
    "    while True:\n",
    "            a = random.randint(1, len(y)-1)\n",
    "            if y[a] == 1:\n",
    "                x = np.delete(x, a, 0)\n",
    "                y = np.delete(y, a, 0)\n",
    "                break\n",
    "print(len(x), len(y))\n"
   ]
  },
  {
   "cell_type": "code",
   "execution_count": 3,
   "metadata": {},
   "outputs": [],
   "source": [
    "from sklearn.model_selection import train_test_split\n",
    "x_train, x_test, y_train, y_test = train_test_split(np.array(x), np.array(y), test_size=0.3, shuffle=False)"
   ]
  },
  {
   "cell_type": "code",
   "execution_count": null,
   "metadata": {
    "jupyter": {
     "outputs_hidden": true
    }
   },
   "outputs": [],
   "source": [
    "x_train[0]"
   ]
  },
  {
   "cell_type": "code",
   "execution_count": null,
   "metadata": {},
   "outputs": [],
   "source": [
    "import tensorflow as tf\n",
    "from keras.models import Sequential\n",
    "from keras.layers import Dense, Dropout, Activation, Flatten\n",
    "from keras.layers import Convolution2D, Conv2D, MaxPooling2D, GlobalAveragePooling2D\n",
    "from keras.optimizers import Adam\n",
    "from keras.utils import np_utils\n",
    "from keras.optimizers import RMSprop\n",
    "model = Sequential()\n",
    "shape = x[0].shape\n",
    "print(shape)\n",
    "model.add(Conv2D(filters=32, kernel_size=(8, 1), input_shape=shape,\n",
    "                 data_format=\"channels_first\", activation=\"relu\"))\n",
    "#model.add(Conv2D(filters=32, kernel_size=(1, 1), activation=\"relu\"))\n",
    "#model.add(Conv2D(filters=32, kernel_size=(3,3), activation=\"relu\",))\n",
    "#model.add(Conv2D(filters=32, kernel_size=(3, 3),activation=\"relu\"))\n",
    "model.add(Flatten())\n",
    "model.add(Dense(64, activation=\"relu\"))\n",
    "model.add(Dropout(0.4))\n",
    "model.add(Dense(16, activation=\"relu\"))\n",
    "model.add(Dropout(0.4))\n",
    "model.add(Dense(1, activation=\"sigmoid\"))\n",
    "print(model.summary())\n",
    "opt = Adam(lr=0.0001)\n",
    "model.compile(loss=\"binary_crossentropy\", optimizer=opt,metrics=[\"accuracy\"])\n",
    "#model.fit(x_train, y_train, batch_size=16,validation_data=(x_test, y_test), verbose=1,epochs=1)"
   ]
  },
  {
   "cell_type": "code",
   "execution_count": 15,
   "metadata": {},
   "outputs": [
    {
     "name": "stdout",
     "output_type": "stream",
     "text": [
      "Train on 9139 samples, validate on 2285 samples\n",
      "Epoch 1/5\n",
      "9139/9139 [==============================] - 3s 290us/step - loss: 0.6766 - accuracy: 0.5663 - val_loss: 0.6470 - val_accuracy: 0.6499\n",
      "Epoch 2/5\n",
      "9139/9139 [==============================] - 2s 258us/step - loss: 0.6407 - accuracy: 0.6388 - val_loss: 0.6168 - val_accuracy: 0.6600\n",
      "Epoch 3/5\n",
      "9139/9139 [==============================] - 2s 257us/step - loss: 0.6293 - accuracy: 0.6539 - val_loss: 0.6104 - val_accuracy: 0.6661\n",
      "Epoch 4/5\n",
      "9139/9139 [==============================] - 2s 254us/step - loss: 0.6246 - accuracy: 0.6565 - val_loss: 0.6140 - val_accuracy: 0.6608\n",
      "Epoch 5/5\n",
      "9139/9139 [==============================] - 2s 251us/step - loss: 0.6258 - accuracy: 0.6595 - val_loss: 0.6099 - val_accuracy: 0.6674\n"
     ]
    }
   ],
   "source": [
    "history = model.fit(x_train, y_train, batch_size=16,validation_data=(x_test, y_test), verbose=1,epochs=5)"
   ]
  },
  {
   "cell_type": "code",
   "execution_count": 40,
   "metadata": {},
   "outputs": [
    {
     "data": {
      "text/plain": [
       "array([[0.87127066],\n",
       "       [0.3972962 ],\n",
       "       [0.71974295],\n",
       "       [0.3513928 ],\n",
       "       [0.68362457],\n",
       "       [0.5905371 ],\n",
       "       [0.5476573 ],\n",
       "       [0.45593584],\n",
       "       [0.5709136 ],\n",
       "       [0.65808046]], dtype=float32)"
      ]
     },
     "execution_count": 40,
     "metadata": {},
     "output_type": "execute_result"
    }
   ],
   "source": [
    "model.predict(x[:10])"
   ]
  },
  {
   "cell_type": "code",
   "execution_count": 29,
   "metadata": {},
   "outputs": [
    {
     "data": {
      "text/plain": [
       "<keras.callbacks.callbacks.History at 0x1e0d7cf23c8>"
      ]
     },
     "execution_count": 29,
     "metadata": {},
     "output_type": "execute_result"
    }
   ],
   "source": [
    "history"
   ]
  },
  {
   "cell_type": "code",
   "execution_count": null,
   "metadata": {},
   "outputs": [],
   "source": [
    "import matplotlib.pyplot as plt\n",
    "# Plot training & validation accuracy values\n",
    "plt.plot(history.history['accuracy'])\n",
    "plt.plot(history.history['val_accuracy'])\n",
    "plt.title('Model accuracy')\n",
    "plt.ylabel('Accuracy')\n",
    "plt.xlabel('Epoch')\n",
    "plt.legend(['Train', 'Test'], loc='upper left')\n"
   ]
  },
  {
   "cell_type": "code",
   "execution_count": null,
   "metadata": {},
   "outputs": [],
   "source": [
    "# Plot training & validation loss values\n",
    "plt.plot(history.history['loss'])\n",
    "plt.plot(history.history['val_loss'])\n",
    "plt.title('Model loss')\n",
    "plt.ylabel('Loss')\n",
    "plt.xlabel('Epoch')\n",
    "plt.legend(['Train', 'Test'], loc='upper left')"
   ]
  },
  {
   "cell_type": "markdown",
   "metadata": {},
   "source": [
    "# collect headshots"
   ]
  },
  {
   "cell_type": "code",
   "execution_count": null,
   "metadata": {},
   "outputs": [],
   "source": [
    "from pymongo import MongoClient\n",
    "import requests_random_user_agent\n",
    "from tqdm import tqdm\n",
    "import os\n",
    "import requests\n",
    "client = MongoClient()\n",
    "db = client.nba\n",
    "boxtrad = db.trad\n",
    "collect = boxtrad.find({})\n",
    "seen = [x.strip(\".png\") for x in os.listdir(\"headshots\")]\n",
    "print(seen)\n",
    "for pg in collect:\n",
    "    pid = pg[\"PLAYER_ID\"]\n",
    "    if str(pid) in seen:\n",
    "        continue\n",
    "    header = {\"Referrer\":f\"https://stats.nba.com/player/{pid}/\"}\n",
    "    headshot = requests.get(f\"https://ak-static.cms.nba.com/wp-content/uploads/headshots/nba/latest/260x190/{pid}.png\",\n",
    "                            headers=header)\n",
    "    if headshot.status_code != 200:\n",
    "        seen.append(str(pid))\n",
    "        continue\n",
    "    with open(f\"headshots/{pid}.png\", \"wb\") as f:\n",
    "        f.write(headshot.content)\n",
    "        seen.append(str(pid))\n",
    "    print(pid)\n"
   ]
  },
  {
   "cell_type": "code",
   "execution_count": null,
   "metadata": {},
   "outputs": [],
   "source": [
    "import requests\n",
    "a = requests.get(\"https://stats.nba.com/player/203991/\")\n",
    "print(a.content)"
   ]
  },
  {
   "cell_type": "markdown",
   "metadata": {},
   "source": [
    "# Scrape bet history"
   ]
  },
  {
   "cell_type": "code",
   "execution_count": 5,
   "metadata": {
    "scrolled": true
   },
   "outputs": [
    {
     "name": "stderr",
     "output_type": "stream",
     "text": [
      "100%|██████████████████████████████████████████████████████████████████████████████| 1230/1230 [32:01<00:00,  1.56s/it]\n"
     ]
    }
   ],
   "source": [
    "import requests\n",
    "from multiprocessing import Pool\n",
    "from bs4 import BeautifulSoup\n",
    "from tqdm import tqdm\n",
    "from datetime import datetime\n",
    "with open(\"team_names.txt\") as f:\n",
    "    teams = {x[1].strip():x[0] for x in (y.split(\"-\") for y in f.readlines())}\n",
    "with open(\"links.txt\") as f:\n",
    "    urls = [x.strip() for x in f.readlines()]\n",
    "from pymongo import MongoClient\n",
    "client = MongoClient()\n",
    "db = client.nba\n",
    "games = db.games\n",
    "headers = {\n",
    "    'cookie': 'js_cookie=1; my_cookie_id=101112686; my_cookie_hash=94b719f17654f45fad8f47626803f40a; upcoming=3-200; my_timezone=^%^2B1; widget_timeStamp=1576892147; page_cached=1; widget_pageViewCount=12',\n",
    "    'accept-encoding': 'gzip, deflate, br',\n",
    "    'accept-language': 'en-US,en;q=0.9',\n",
    "    'user-agent': 'Mozilla/5.0 (Windows NT 10.0; Win64; x64) AppleWebKit/537.36 (KHTML, like Gecko)',\n",
    "    'accept': 'application/json, text/javascript, */*; q=0.01',\n",
    "    'referer': 'https://www.betexplorer.com',\n",
    "    'authority': 'www.betexplorer.com',\n",
    "    'x-requested-with': 'XMLHttpRequest',\n",
    "}\n",
    "bookies = {\n",
    "    \"44\":\"Betfair\",\n",
    "    \"16\":\"bet365\",\n",
    "    \"18\":\"Pinnacle\",\n",
    "    \"5\":\"Unibet\"\n",
    "}\n",
    "\n",
    "for url in urls:\n",
    "    page = requests.get(url)\n",
    "    soup = BeautifulSoup(page.text, \"html.parser\")\n",
    "    table = soup.find(\"table\", attrs={\"class\":\"table-main h-mb15 js-tablebanner-t js-tablebanner-ntb\"})\n",
    "    rows = table.find_all(\"tr\")\n",
    "    for row in tqdm(rows):\n",
    "        cols = row.find_all(\"td\")\n",
    "        versus = cols[0].a.find_all(\"span\")\n",
    "        home, away = versus[0].text, versus[1].text\n",
    "        date = cols[4].text.split(\".\")\n",
    "        if not date[2]:\n",
    "            date[2] = datetime.now().year\n",
    "        dt = datetime(int(date[2]), int(date[1]), int(date[0])).timestamp()\n",
    "        if not cols[0].a.has_attr(\"href\"):\n",
    "            continue\n",
    "        link = cols[0].a.attrs[\"href\"]\n",
    "        game_id = link.split(\"/\")[-2]\n",
    "        game_page = requests.get(f\"https://www.betexplorer.com/match-odds/{game_id}/1/ha/\", headers=headers)\n",
    "        soup = BeautifulSoup(game_page.json()[\"odds\"], \"html.parser\")\n",
    "        table = soup.find(\"table\", attrs={\"class\":\"table-main h-mb15 sortable\"})\n",
    "        if not table:\n",
    "            continue\n",
    "        bookmakers = table.find_all(\"tr\")[1:-1]\n",
    "        if not bookmakers: # there were no bookmakers for this game\n",
    "            continue\n",
    "        for b in bookmakers:\n",
    "            if not b.has_attr(\"data-bid\"):\n",
    "                continue\n",
    "            bid = b.attrs[\"data-bid\"]\n",
    "            if bid not in bookies: # betfair, bet365, pinnacle, unibet\n",
    "                continue\n",
    "            cols = b.find_all(\"td\")\n",
    "            if not cols[3].has_attr(\"data-opening-odd\"):\n",
    "                cols[3].attrs[\"data-opening-odd\"] = \"1.0\"\n",
    "            if not cols[4].has_attr(\"data-odd\"):\n",
    "                cols[4].attrs[\"data-odd\"] = \"1.0\"\n",
    "            home_open, home_close = cols[3].attrs[\"data-opening-odd\"], cols[3].attrs[\"data-odd\"]\n",
    "            away_open, away_close = cols[4].attrs[\"data-opening-odd\"], cols[4].attrs[\"data-odd\"]\n",
    "            games.update_one({\"HOME\":str(teams[home]), \"AWAY\":str(teams[away]), \"DATE\":{\"$gte\":dt-86400, \"$lte\":dt+86400}},\n",
    "                            {\"$set\":{bookies[bid]:f\"{home_open}v{away_open} {home_close}v{away_close}\"}})\n",
    "        #print(home, teams[home], away, teams[away], date, bookies[bid], home_close, away_close)"
   ]
  },
  {
   "cell_type": "markdown",
   "metadata": {},
   "source": [
    "![loss](loss.png)"
   ]
  },
  {
   "cell_type": "code",
   "execution_count": 24,
   "metadata": {},
   "outputs": [
    {
     "name": "stdout",
     "output_type": "stream",
     "text": [
      "(2, 8, 42)\n",
      "Model: \"model_4\"\n",
      "__________________________________________________________________________________________________\n",
      "Layer (type)                    Output Shape         Param #     Connected to                     \n",
      "==================================================================================================\n",
      "input_7 (InputLayer)            (None, 2, 8, 42)     0                                            \n",
      "__________________________________________________________________________________________________\n",
      "input_8 (InputLayer)            (None, 1)            0                                            \n",
      "__________________________________________________________________________________________________\n",
      "sequential_4 (Sequential)       (None, 8960)         544         input_7[0][0]                    \n",
      "__________________________________________________________________________________________________\n",
      "concatenate_4 (Concatenate)     (None, 8961)         0           input_8[0][0]                    \n",
      "                                                                 sequential_4[1][0]               \n",
      "__________________________________________________________________________________________________\n",
      "dense_10 (Dense)                (None, 32)           286784      concatenate_4[0][0]              \n",
      "__________________________________________________________________________________________________\n",
      "dropout_7 (Dropout)             (None, 32)           0           dense_10[0][0]                   \n",
      "__________________________________________________________________________________________________\n",
      "dense_11 (Dense)                (None, 8)            264         dropout_7[0][0]                  \n",
      "__________________________________________________________________________________________________\n",
      "dropout_8 (Dropout)             (None, 8)            0           dense_11[0][0]                   \n",
      "__________________________________________________________________________________________________\n",
      "dense_12 (Dense)                (None, 1)            9           dropout_8[0][0]                  \n",
      "==================================================================================================\n",
      "Total params: 287,601\n",
      "Trainable params: 287,601\n",
      "Non-trainable params: 0\n",
      "__________________________________________________________________________________________________\n",
      "None\n",
      "Train on 6967 samples, validate on 2986 samples\n",
      "Epoch 1/20\n",
      "6967/6967 [==============================] - 2s 293us/step - loss: 0.2128 - accuracy: 0.4810 - val_loss: 0.2295 - val_accuracy: 0.3312\n",
      "Epoch 2/20\n",
      "6967/6967 [==============================] - 2s 253us/step - loss: 0.2099 - accuracy: 0.4917 - val_loss: 0.2260 - val_accuracy: 0.5322\n",
      "Epoch 3/20\n",
      "6967/6967 [==============================] - 2s 253us/step - loss: 0.2056 - accuracy: 0.5222 - val_loss: 0.2477 - val_accuracy: 0.4585\n",
      "Epoch 4/20\n",
      "6967/6967 [==============================] - 2s 258us/step - loss: 0.2067 - accuracy: 0.5367 - val_loss: 0.2349 - val_accuracy: 0.5777\n",
      "Epoch 5/20\n",
      "6967/6967 [==============================] - 2s 254us/step - loss: 0.2023 - accuracy: 0.5644 - val_loss: 0.2346 - val_accuracy: 0.5730\n",
      "Epoch 6/20\n",
      "6967/6967 [==============================] - 2s 261us/step - loss: 0.2028 - accuracy: 0.5817 - val_loss: 0.2621 - val_accuracy: 0.5037\n",
      "Epoch 7/20\n",
      "6967/6967 [==============================] - 2s 257us/step - loss: 0.2015 - accuracy: 0.5688 - val_loss: 0.2348 - val_accuracy: 0.5951\n",
      "Epoch 8/20\n",
      "6967/6967 [==============================] - 2s 255us/step - loss: 0.2000 - accuracy: 0.5961 - val_loss: 0.2420 - val_accuracy: 0.5817\n",
      "Epoch 9/20\n",
      "6967/6967 [==============================] - 2s 255us/step - loss: 0.1994 - accuracy: 0.5949 - val_loss: 0.2439 - val_accuracy: 0.5579\n",
      "Epoch 10/20\n",
      "6967/6967 [==============================] - 2s 256us/step - loss: 0.1970 - accuracy: 0.6050 - val_loss: 0.2595 - val_accuracy: 0.5415\n",
      "Epoch 11/20\n",
      "6967/6967 [==============================] - 2s 254us/step - loss: 0.1979 - accuracy: 0.6018 - val_loss: 0.2527 - val_accuracy: 0.5589\n",
      "Epoch 12/20\n",
      "6967/6967 [==============================] - 2s 254us/step - loss: 0.1953 - accuracy: 0.6127 - val_loss: 0.2407 - val_accuracy: 0.6001\n",
      "Epoch 13/20\n",
      "6967/6967 [==============================] - 2s 253us/step - loss: 0.1965 - accuracy: 0.6063 - val_loss: 0.2507 - val_accuracy: 0.5680\n",
      "Epoch 14/20\n",
      "6967/6967 [==============================] - 2s 253us/step - loss: 0.1927 - accuracy: 0.6145 - val_loss: 0.2498 - val_accuracy: 0.5743\n",
      "Epoch 15/20\n",
      "6967/6967 [==============================] - 2s 252us/step - loss: 0.1911 - accuracy: 0.6168 - val_loss: 0.2507 - val_accuracy: 0.5700\n",
      "Epoch 16/20\n",
      "6967/6967 [==============================] - 2s 254us/step - loss: 0.1914 - accuracy: 0.6257 - val_loss: 0.2426 - val_accuracy: 0.5934\n",
      "Epoch 17/20\n",
      "6967/6967 [==============================] - 2s 252us/step - loss: 0.1903 - accuracy: 0.6241 - val_loss: 0.2411 - val_accuracy: 0.6018\n",
      "Epoch 18/20\n",
      "6967/6967 [==============================] - 2s 253us/step - loss: 0.1923 - accuracy: 0.6234 - val_loss: 0.2431 - val_accuracy: 0.5998\n",
      "Epoch 19/20\n",
      "6967/6967 [==============================] - 2s 253us/step - loss: 0.1888 - accuracy: 0.6407 - val_loss: 0.2510 - val_accuracy: 0.5874\n",
      "Epoch 20/20\n",
      "6967/6967 [==============================] - 2s 253us/step - loss: 0.1887 - accuracy: 0.6538 - val_loss: 0.2584 - val_accuracy: 0.5633\n"
     ]
    },
    {
     "data": {
      "text/plain": [
       "<keras.callbacks.callbacks.History at 0x1cdcb48b948>"
      ]
     },
     "execution_count": 24,
     "metadata": {},
     "output_type": "execute_result"
    }
   ],
   "source": [
    "from keras import backend as K\n",
    "from keras.models import Model\n",
    "from keras.models import Sequential\n",
    "from keras.layers import Input, Dense, Dropout, Conv2D, Flatten, Activation, concatenate\n",
    "from keras.optimizers import Adam\n",
    "\n",
    "c = 0.6\n",
    "def decorrelation_loss(neuron):\n",
    "    def loss(y_actual, y_predicted):\n",
    "        return K.mean(\n",
    "                K.square(y_actual-y_predicted) - c * K.square(y_predicted - neuron))\n",
    "    return loss\n",
    "\n",
    "# split the two input streams\n",
    "box_scores_train, odds_train = map(list, zip(*x_train))\n",
    "box_scores_test, odds_test = map(list, zip(*x_test))\n",
    "\n",
    "# box model turns stats into a vector\n",
    "box_model = Sequential()\n",
    "shape = box_scores_train[0].shape\n",
    "print(shape)\n",
    "box_model.add(Conv2D(filters=32, kernel_size=(1, 8), input_shape=shape,\n",
    "                 data_format=\"channels_first\", activation=\"relu\"))\n",
    "box_model.add(Flatten())\n",
    "\n",
    "box_input = Input(shape=shape)\n",
    "box_encoded = box_model(box_input)\n",
    "\n",
    "odds_input = Input(shape=(1,), dtype=\"float32\") #(opening or closing weight)\n",
    "merged = concatenate([odds_input, box_encoded])\n",
    "output = Dense(32, activation=\"relu\")(merged)\n",
    "output = Dropout(0.5)(output)\n",
    "output = Dense(8, activation=\"relu\")(output)\n",
    "output = Dropout(0.5)(output)\n",
    "signal = Dense(1, activation=\"sigmoid\")(output)\n",
    "\n",
    "opt = Adam(lr=0.0001)\n",
    "nba_model = Model(inputs=[box_input, odds_input], outputs=signal)\n",
    "print(nba_model.summary())\n",
    "\n",
    "nba_model.compile(optimizer=opt,\n",
    "                  #loss=\"binary_crossentropy\",\n",
    "              loss=decorrelation_loss(odds_input), # Call the loss function with the selected layer\n",
    "              metrics=['accuracy'])\n",
    "nba_model.fit([box_scores_train, odds_train], y_train,\n",
    "              batch_size=16,validation_data=([box_scores_test, odds_test], y_test), verbose=1,epochs=20)"
   ]
  },
  {
   "cell_type": "code",
   "execution_count": 25,
   "metadata": {},
   "outputs": [],
   "source": []
  },
  {
   "cell_type": "code",
   "execution_count": 30,
   "metadata": {},
   "outputs": [
    {
     "data": {
      "text/plain": [
       "[<matplotlib.lines.Line2D at 0x1cdce1086c8>]"
      ]
     },
     "execution_count": 30,
     "metadata": {},
     "output_type": "execute_result"
    },
    {
     "data": {
      "image/png": "[encoded data removed]",
      "text/plain": [
       "<Figure size 432x288 with 1 Axes>"
      ]
     },
     "metadata": {
      "needs_background": "light"
     },
     "output_type": "display_data"
    }
   ],
   "source": [
    "b, ods = map(list, zip(*x))\n",
    "results = list(y)\n",
    "balance = 100\n",
    "history = [100]\n",
    "predictions = nba_model.predict([b, ods])\n",
    "for i, p in enumerate(predictions):\n",
    "    if p[0] > 0.6:\n",
    "        bet = balance * 0.1 * p[0]\n",
    "        balance -= bet\n",
    "        if results[i] == 1:\n",
    "            balance += bet*(1/ods[i])\n",
    "        history.append(balance)\n",
    "%matplotlib inline\n",
    "import matplotlib.pyplot as plt\n",
    "plt.plot(history)"
   ]
  },
  {
   "cell_type": "code",
   "execution_count": 33,
   "metadata": {},
   "outputs": [
    {
     "data": {
      "text/plain": [
       "292.9991237312299"
      ]
     },
     "execution_count": 33,
     "metadata": {},
     "output_type": "execute_result"
    }
   ],
   "source": [
    "max(history)"
   ]
  },
  {
   "cell_type": "code",
   "execution_count": null,
   "metadata": {},
   "outputs": [],
   "source": []
  },
  {
   "cell_type": "code",
   "execution_count": null,
   "metadata": {},
   "outputs": [],
   "source": []
  }
 ],
 "metadata": {
  "kernelspec": {
   "display_name": "Python 3",
   "language": "python",
   "name": "python3"
  },
  "language_info": {
   "codemirror_mode": {
    "name": "ipython",
    "version": 3
   },
   "file_extension": ".py",
   "mimetype": "text/x-python",
   "name": "python",
   "nbconvert_exporter": "python",
   "pygments_lexer": "ipython3",
   "version": "3.7.4"
  }
 },
 "nbformat": 4,
 "nbformat_minor": 4
}
